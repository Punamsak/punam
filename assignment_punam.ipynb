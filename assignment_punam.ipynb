{
 "cells": [
  {
   "cell_type": "code",
   "execution_count": null,
   "id": "34461890-c431-4074-8078-0650c99786f5",
   "metadata": {},
   "outputs": [],
   "source": [
    "1. In the below elements which of them are values or an expression? eg:- values can be integer or \n",
    "string and expressions will be mathematical operators.\n",
    "* \n",
    "'hello'\n",
    "-87.8\n",
    "- \n",
    "/ \n",
    "+\t\n",
    "6 \n"
   ]
  },
  {
   "cell_type": "code",
   "execution_count": null,
   "id": "fd9f32f3-6e38-42c3-b991-1ba6221bb467",
   "metadata": {},
   "outputs": [],
   "source": [
    "values:- 'hello', -87.8, 6\n",
    "expressions:- *, -, /,+"
   ]
  },
  {
   "cell_type": "code",
   "execution_count": null,
   "id": "61960bcb-4a7f-4d34-9f44-86dbdc19d274",
   "metadata": {},
   "outputs": [],
   "source": [
    "What is the difference between string and variable?"
   ]
  },
  {
   "cell_type": "code",
   "execution_count": null,
   "id": "ee40deb8-3ae9-421f-846f-f9b565f5b6c9",
   "metadata": {},
   "outputs": [],
   "source": [
    "variable:- A variable is a named location in memory that stores a value which can be manipulated within a program.\n",
    "It can be used to store data such as numbers, strings and objects.\n",
    "It can be used to store the values which can be used in operations and calculations.\n",
    "\n",
    "Ex:- a=5\n",
    "In the above example we can say that a is a variable that stores the value 5. In python,\n",
    "there is no specific command to declare a variable. Therefore a variable is created when we first assign a value to it. \n",
    "In our program. A variable can be of different types like integer, string, float etc. based on the values we assign to it.\n",
    "\n",
    "A string is a data type that stores text values. It is used to store and manipulate text-based data such as words, sentences and numbers.\n",
    "Strings are represented in programming by enclosing a sequence of characters in quotes which allow the data to be stored and manipulated\n",
    "as a single unit.\n",
    "                   \n",
    "                    x= “5”\n",
    "                    Y=”2”\n",
    "                     Print (x+y)\n",
    "                     # it will print 52\n",
    "\n",
    "\n",
    "                    x=5\n",
    "                    Y=2\n",
    "                    Print(x+y)\n",
    "                    #  it will print 7\n",
    "                    \n",
    "In first example (x + y) will return 52, it means there is a string concatenation of 5 and 2.\n",
    "In second example it will return 7 it assumes it as an integer at runtime.\n",
    "                   \n"
   ]
  },
  {
   "cell_type": "code",
   "execution_count": null,
   "id": "af55f914-022e-4ff0-b2f0-c609571726b2",
   "metadata": {},
   "outputs": [],
   "source": [
    "3. Describe three different data types."
   ]
  },
  {
   "cell_type": "code",
   "execution_count": null,
   "id": "aa6b1841-9aba-441d-be52-04fa768f55f1",
   "metadata": {},
   "outputs": [],
   "source": [
    "Python has following data types: -     \n",
    "Text type =>                                            str\n",
    "Numeric type =>                                         int, float, complex\n",
    "Sequence Type =>                                        list, tuple , range\n",
    "Mapping Type =>                                         dict\n",
    "Set type =>                                             set, frozenset\n",
    "Boolean type =>                                         bool\n",
    "Binary type =>                                          bytes, bytearray, memoryview.\n",
    "None type =>                                            NoneType\n",
    "a>\tString Data type\n",
    "A string is a data type that stores text values. It is used to store and manipulate text-based data such as words, \n",
    "sentences and numbers. Strings are represented in programming by enclosing a sequence of characters in quotes which allow the \n",
    "data to be stored and manipulated as a single unit.\n",
    "\n",
    "Ex=>    p = “Hello Punam!”    # display p:\n",
    "             Print(p)\n",
    "Output:-  Hello Punam!\n",
    "\n",
    "# Display the data type of p:\n",
    "Print(type(p))\n",
    "\n",
    "Output:- <class ‘str’>\n",
    "\n",
    "\n",
    "b>\tPython Numeric Data Type:---\n",
    "\n",
    "i>\tInt         ( signed integers)\n",
    "ii>\tLong      ( long integers can be represent in octal and hexadecimal numbers)\n",
    "iii>\tFloat     ()\n",
    "iv>\tComplex (complex numbers)\n",
    "\n",
    "Python has several built-in numeric data types, such as int, float, and complex numbers that can store numeric values.\n",
    "When you assign a value to the variable, python creates a number object to store the value.\n",
    "\n",
    "P =50   # integer variable\n",
    "Print (“the type of variable having value “ , p , “is” , type (p))\n",
    "\n",
    "Output-> the type of variable having value 50 is  < class ‘int’>\n",
    "\n",
    "q= 50.51    # float variable\n",
    "Print (“the type of variable having value “ , q , “is” , type (q))\n",
    "Output -> the type of variable having value 50.51 is  < class ‘float’>\n",
    "\n",
    "r= 50+ 3p  # complex variable\n",
    "Print (“the type of variable having value “ , r , “is” , type (r))\n",
    "Output -> the type of variable having value 50 +3p  is  < class ‘complex’>\n",
    "\n",
    "c>\tPython List Data Type:-\n",
    "\n",
    "Python list data type contains items separated by commas and enclosed within square brackets. Lists are mutable, meaning they can be changed.\n",
    "This means that elements can be added, deleted, rearranged, and changed within the list. This makes them ideal for use in data manipulation, \n",
    "sorting and searching.\n",
    "\n",
    "Ex=>\n",
    "\n",
    "fruits = [‘banana’ ,‘cherry’, 222, 22.3, ‘apple’  ]\n",
    "fruits_list =[222, ‘apple’]\n",
    "\n",
    "Print(fruits)                                             # prints complete list\n",
    "Print(fruits[0])                                        # print first element of the list\n",
    "Print(fruits[1:3])                                     # print elements starting from 2nd till 3rd\n",
    "Print(fruits[2:])                                      # print elements starting from 3rd element\n",
    "Print(fruits_list * 2)                             # print lists two item\n",
    "Print(fruits + fruits_list)                      # prints concatenated list\n",
    "\n"
   ]
  },
  {
   "cell_type": "code",
   "execution_count": null,
   "id": "ee22e655-11ae-49a1-ba84-746f0db6a22c",
   "metadata": {},
   "outputs": [],
   "source": [
    "4. What is an expression made up of? What do all expressions do?"
   ]
  },
  {
   "cell_type": "code",
   "execution_count": null,
   "id": "1b0348ab-b941-4df2-8657-b0b53dbecf60",
   "metadata": {},
   "outputs": [],
   "source": [
    "Expressions are written using a combination of keywords, operators, and values, and can evaluate to a single value. \n",
    "For example, a simple expression such as “2+2” evaluates to the value 4.\n",
    "Expressions can also include more complex operations such as calling a function, performing calculations with variables,\n",
    "and combining multiple expressions to produce a single result.\n",
    "Expressions in python:-\n",
    "Literals are important because they allow us to represent values in our code that do not change.\n",
    "This makes it easier to write programs that are predictable and maintainable.\n",
    "Variables can have different types, such as numbers, strings, and booleans, and they can be changed and reassigned as needed. \n",
    "Variables can also be used in operations, such as addition or multiplication, to represent their assigned values.\n",
    "Arithmetic operators are used to perform calculations on numbers, such as addition, subtraction, multiplication, and division.\n",
    "Comparison operators are used to compare two items and determine if they are equal, not equal, greater than, less than, and so on. \n",
    "Logical operators allow you to combine multiple conditions in an expression and determine the outcome based on the results of those conditions.\n",
    "\n",
    "\n",
    "By using functions, code can be broken up into smaller pieces, which makes a program easier to read and debug. \n",
    "It also allows for code reuse, which makes programming more efficient.\n",
    "For example, when an expression contains multiple operators of different precedence levels, parentheses can be used to ensure that the\n",
    "expression is evaluated in the desired order. This prevents confusion and allows for more accurate results.\n",
    "\n",
    "When parentheses are used, the expression inside them is evaluated first, regardless of the operator precedence. \n",
    "This allows users to control the evaluation order of complex expressions and ensure that the result is as expected.\n",
    "\n",
    "Ex:-\n",
    "my_value=(1+2)* (3-1)\n",
    "\n",
    "In this expression the values 1,2,3 are combined with operators  +,-,* to perform arithmetic calculations. \n",
    "The expression evaluates to 6 and assigns the result to the variable “my_value”.\n",
    "Expressions are combinations of values, variables, operators, and other Python elements that evaluate to a single value.\n",
    "They can be used in a variety of ways, such as to calculate values and compare values.\n",
    "\n",
    "\n"
   ]
  },
  {
   "cell_type": "code",
   "execution_count": null,
   "id": "35c83563-b7ef-4e23-995a-f929c85d3f46",
   "metadata": {},
   "outputs": [],
   "source": [
    "5. This assignment statements, like spam = 10. What is the difference between an expression and a statement?"
   ]
  },
  {
   "cell_type": "code",
   "execution_count": null,
   "id": "8db1c0a3-b55c-468b-afa0-da901ac045ca",
   "metadata": {},
   "outputs": [],
   "source": [
    "Expressions are the building blocks of a programming language. They are used to assign values to variables, perform calculations, \n",
    "and manipulate data. Expressions can contain literals (such as numbers or strings), variables, operators (such as addition or subtraction), \n",
    "and function calls (which can be used to perform more complex operations).\n",
    "Statements are typically used to declare, define, and control the behavior of variables, create objects, and to call functions. \n",
    "Statements can also be used to access and manipulate data in data structures, and to control the flow of execution in a program.\n",
    "Python statements are as follows :--\n",
    "Assignment statements:-- A variable is like a container that stores information. An assignment statement is a statement that\n",
    "assigns a value to the variable. This allows the program to use the information stored in the variable for later use.\n",
    "Spam=10\n",
    "A conditional statement :-- essentially evaluates a condition and then, based on the result of that evaluation, executes one of two blocks of code.\n",
    "If the condition evaluates to true, the first block of code is executed; if the condition evaluates to false, the second block of code is executed.\n",
    "a = 10\n",
    "b = 10\n",
    "if b > a:\n",
    "  print(\"b is greater than a\")\n",
    "elif a == b:\n",
    "  print(\"a and b are equal\")\n",
    "\n",
    "The loop statement will execute a block of code until the condition set for it is no longer true. \n",
    "It can be used to iterate over the elements of a collection or to perform an operation multiple times until a certain condition is met.\n",
    "fruits = [\"apple\", \"banana\", \"mango\"]\n",
    "for p in fruits:\n",
    "  print(p)\n",
    "\n",
    "A function definition statement is a statement in a programming language that declares the name and parameters of a function and \n",
    "specifies the code that should be executed when the function is called. It is a combination of the function name, parameters, and code that will be\n",
    "executed.\n",
    "\n",
    "def my_punamfunction():\n",
    "  print(\"Hello from a punamfunction\")\n",
    "my_punamfunction()\n",
    "Expressions are evaluated in order to produce a result, such as a number or a string, while statements are instructions \n",
    "that can be used to manipulate the data or values produced by expressions. For example, a statement can be used to assign a value\n",
    "produced by an expression to a variable or to print out the value on the screen.\n"
   ]
  },
  {
   "cell_type": "code",
   "execution_count": null,
   "id": "05f85efd-8b90-4683-a15a-86f8a2d5a5e2",
   "metadata": {},
   "outputs": [],
   "source": [
    "6. After running the following code, what does the variable bacon contain?\n",
    "bacon = 22\n",
    "bacon + 1\n",
    "\n"
   ]
  },
  {
   "cell_type": "code",
   "execution_count": null,
   "id": "13e41c1f-337c-4bdd-9aaa-418381d4c7dc",
   "metadata": {},
   "outputs": [],
   "source": [
    "Since the value of bacon is not assigned to any variable, it remains unchanged. To update the value, we need to assign the result\n",
    "of the expression to the variable, which is done with the assignment operator (=). \n",
    "By doing this, the value of bacon is reassigned to the result of the expression, making it 23."
   ]
  },
  {
   "cell_type": "code",
   "execution_count": null,
   "id": "7801c436-4e2b-491f-a0ad-168697cd5591",
   "metadata": {},
   "outputs": [],
   "source": [
    "7. What should the values of the following two terms be?\n",
    "'spam' + 'spamspam'\n",
    "'spam' * 3\n"
   ]
  },
  {
   "cell_type": "code",
   "execution_count": null,
   "id": "39b87d6a-c44c-44fd-b098-658b26120cea",
   "metadata": {},
   "outputs": [],
   "source": [
    "'spam' + 'spamspam':-  this expression will do concatenation. It will combine the string \n",
    "‘spam’ with the string ‘spamspam’.\n",
    "And output will be ->’spamspamspam’\n",
    "'spam' * 3 this expression will do string multiplication. It will repeat the string ‘spam’ three times. The result will be’spamspamspam’.\n",
    "Both will answer same."
   ]
  },
  {
   "cell_type": "code",
   "execution_count": null,
   "id": "bae757ec-1362-4c74-80b2-5b8602ec4c7f",
   "metadata": {},
   "outputs": [],
   "source": [
    "8. Why is eggs a valid variable name while 100 is invalid?"
   ]
  },
  {
   "cell_type": "code",
   "execution_count": null,
   "id": "5ebf16ad-087a-4e00-a752-7fdc5a520fcc",
   "metadata": {},
   "outputs": [],
   "source": [
    "Variable names should be descriptive of what the variable holds and should not contain any spaces or special characters. \n",
    "They can be of any length, as long as they start with a letter and only contain letters, numbers, or underscores.\n",
    "This is because a variable name is a form of identifier, and identifiers are not allowed to start with a digit according to\n",
    "programming language syntax rules.\n",
    "Therefore eggs a valid variable name while 100 is invalid."
   ]
  },
  {
   "cell_type": "code",
   "execution_count": null,
   "id": "7c7cd162-4165-4991-9b5c-6f85df12170f",
   "metadata": {},
   "outputs": [],
   "source": [
    "9. What three functions can be used to get the integer, floating-point number, or string version of a value?"
   ]
  },
  {
   "cell_type": "code",
   "execution_count": null,
   "id": "5c474250-5136-407d-95d7-81a0ce4cb332",
   "metadata": {},
   "outputs": [],
   "source": [
    "The int() function is useful for when you need to make sure that a value is represented as an integer.\n",
    "It is especially helpful when you are working with a list of numbers and need to make sure that all of the values are integers.\n",
    "value=int(5.5)\n",
    "print(value)\n",
    "output will be 5.\n",
    "\n",
    "The float() function is useful for ensuring that any type of value is converted to a floating-point number,\n",
    "which can be used for mathematical operations. It is also useful for ensuring that two values of different types can be compared,\n",
    "since both types will be converted to the same format.\n",
    "value=float(5.5)\n",
    "print(value)\n",
    "output will be 5.5\n",
    "The str() function can be used to convert any data type, such as numbers, booleans, and lists, into a string. This can be\n",
    "especially useful when you want to use the value in a string context, such as when you are writing a file or printing out a value.\n",
    "value=str(55)\n",
    "print(value)\n",
    "output will be “55”\n",
    "These functions enable us to convert values from one type to another, such as from an integer to a string, or from a float to an integer.\n",
    "This is important because some functions and operations only work with certain data types, and we need to be able to convert between them\n",
    "when necessary.\n"
   ]
  },
  {
   "cell_type": "code",
   "execution_count": null,
   "id": "9dbfa1d3-b9bc-445c-bb75-3e298fb0a789",
   "metadata": {},
   "outputs": [],
   "source": [
    "10. Why does this expression cause an error? How can you fix it?\n",
    "'I have eaten ' + 99 + ' burritos.'\n"
   ]
  },
  {
   "cell_type": "code",
   "execution_count": null,
   "id": "cadc8657-123c-4f18-9c81-77fcb6d1d360",
   "metadata": {},
   "outputs": [],
   "source": [
    "the expression ‘I have eaten ’ + 99 + ‘burritos’ will give error , because it is trying to concatenate string with integer.\n",
    "And correct procedure is that we should convert this integer to string first.\n",
    "And rule is that concatenation is possible between string to string.\n",
    "So to fix the error we should convert integer (99) to string that is  in str().\n",
    "So corrected one is as follows:-\n",
    "‘I have eaten’ + str(99) + ‘burritos’\n"
   ]
  }
 ],
 "metadata": {
  "kernelspec": {
   "display_name": "Python 3 (ipykernel)",
   "language": "python",
   "name": "python3"
  },
  "language_info": {
   "codemirror_mode": {
    "name": "ipython",
    "version": 3
   },
   "file_extension": ".py",
   "mimetype": "text/x-python",
   "name": "python",
   "nbconvert_exporter": "python",
   "pygments_lexer": "ipython3",
   "version": "3.10.6"
  }
 },
 "nbformat": 4,
 "nbformat_minor": 5
}
